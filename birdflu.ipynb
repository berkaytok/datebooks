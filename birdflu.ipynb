{
 "cells": [
  {
   "cell_type": "code",
   "execution_count": null,
   "metadata": {},
   "outputs": [
    {
     "name": "stderr",
     "output_type": "stream",
     "text": [
      "/var/folders/ch/2jdk3nmx6m59lq348r2ydl3m0000gp/T/ipykernel_14520/1638002995.py:15: DeprecationWarning:\n",
      "\n",
      "*choropleth_mapbox* is deprecated! Use *choropleth_map* instead. Learn more at: https://plotly.com/python/mapbox-to-maplibre/\n",
      "\n"
     ]
    },
    {
     "data": {
      "application/vnd.plotly.v1+json": {
       "config": {
        "plotlyServerURL": "https://plot.ly"
       },
       "data": [
        {
         "coloraxis": "coloraxis",
         "customdata": [
          [
           "Accomack",
           "Virginia",
           "Commercial Broiler Production"
          ],
          [
           "Ada",
           "Idaho",
           "WOAH Non-Poultry; WOAH Poultry"
          ],
          [
           "Adair",
           "Oklahoma",
           "Commercial Turkey Meat Bird; WOAH Poultry; Commercial Broiler Breeder"
          ],
          [
           "Adams",
           "Pennsylvania",
           "Commercial Turkey Meat Bird; WOAH Poultry; WOAH Non-Poultry"
          ],
          [
           "Adams",
           "Indiana",
           "Commercial Duck Breeder; Commercial Turkey Meat Bird"
          ],
          [
           "Alexandria City",
           "Virginia",
           "Live Bird Market"
          ],
          [
           "Allegheny",
           "Pennsylvania",
           "WOAH Non-Poultry"
          ],
          [
           "Allen",
           "Ohio",
           "WOAH Non-Poultry"
          ],
          [
           "Allen",
           "Indiana",
           "WOAH Non-Poultry; WOAH Poultry"
          ],
          [
           "Alpena",
           "Michigan",
           "WOAH Non-Poultry"
          ],
          [
           "Anderson",
           "Kansas",
           "WOAH Non-Poultry; Commercial Upland Gamebird Producer"
          ],
          [
           "Anne Arundel",
           "Maryland",
           "WOAH Non-Poultry"
          ],
          [
           "Anoka",
           "Minnesota",
           "WOAH Non-Poultry"
          ],
          [
           "Arapahoe",
           "Colorado",
           "WOAH Non-Poultry"
          ],
          [
           "Arkansas",
           "Arkansas",
           "WOAH Non-Poultry"
          ],
          [
           "Ashland",
           "Ohio",
           "WOAH Non-Poultry"
          ],
          [
           "Audrain",
           "Missouri",
           "WOAH Poultry"
          ],
          [
           "Auglaize",
           "Ohio",
           "Commercial Table Egg Layer; Commercial Turkey Meat Bird"
          ],
          [
           "Barnes",
           "North Dakota",
           "WOAH Poultry"
          ],
          [
           "Barnstable",
           "Massachusetts",
           "WOAH Non-Poultry"
          ],
          [
           "Barron",
           "Wisconsin",
           "Commercial Turkey Breeder Hens; Commercial Turkey Meat Bird; WOAH Non-Poultry"
          ],
          [
           "Barry",
           "Missouri",
           "Commercial Turkey Meat Bird"
          ],
          [
           "Barton",
           "Kansas",
           "WOAH Non-Poultry"
          ],
          [
           "Bates",
           "Missouri",
           "WOAH Non-Poultry"
          ],
          [
           "Bay",
           "Michigan",
           "WOAH Non-Poultry"
          ],
          [
           "Bayfield",
           "Wisconsin",
           "WOAH Non-Poultry"
          ],
          [
           "Beadle",
           "South Dakota",
           "Commercial Turkey Meat Bird"
          ],
          [
           "Beaufort",
           "South Carolina",
           "WOAH Non-Poultry"
          ],
          [
           "Becker",
           "Minnesota",
           "Commercial Breeder Operation; Commercial Turkey Breeder Hens; Commercial Turkey Breeder Toms; WOAH Non-Poultry; Commercial Turkey Meat Bird"
          ],
          [
           "Belknap",
           "New Hampshire",
           "WOAH Non-Poultry"
          ],
          [
           "Bent",
           "Colorado",
           "WOAH Poultry"
          ],
          [
           "Benton",
           "Oregon",
           "WOAH Non-Poultry"
          ],
          [
           "Benton",
           "Iowa",
           "WOAH Non-Poultry"
          ],
          [
           "Benton",
           "Missouri",
           "Commercial Broiler Breeder"
          ],
          [
           "Benton",
           "Minnesota",
           "WOAH Non-Poultry"
          ],
          [
           "Benton",
           "Washington",
           "WOAH Non-Poultry"
          ],
          [
           "Bergen",
           "New Jersey",
           "WOAH Non-Poultry"
          ],
          [
           "Berks",
           "Pennsylvania",
           "WOAH Non-Poultry; Commercial Duck Meat Bird; Commercial Duck Breeder; Commercial Table Egg Layer; Commercial Table Egg Breeder"
          ],
          [
           "Berkshire",
           "Massachusetts",
           "WOAH Non-Poultry"
          ],
          [
           "Bernalillo",
           "New Mexico",
           "WOAH Non-Poultry"
          ],
          [
           "Bethel",
           "Alaska",
           "WOAH Non-Poultry"
          ],
          [
           "Big Stone",
           "Minnesota",
           "Commercial Turkey Meat Bird"
          ],
          [
           "Bingham",
           "Idaho",
           "WOAH Non-Poultry"
          ],
          [
           "Bledsoe",
           "Tennessee",
           "Commercial Broiler Breeder"
          ],
          [
           "Blue Earth",
           "Minnesota",
           "Commercial Turkey Meat Bird"
          ],
          [
           "Bon Homme",
           "South Dakota",
           "Commercial Turkey Meat Bird; WOAH Non-Poultry"
          ],
          [
           "Bonneville",
           "Idaho",
           "WOAH Non-Poultry"
          ],
          [
           "Boone",
           "Illinois",
           "WOAH Non-Poultry"
          ],
          [
           "Bossier",
           "Louisiana",
           "WOAH Non-Poultry"
          ],
          [
           "Bottineau",
           "North Dakota",
           "WOAH Poultry"
          ],
          [
           "Boulder",
           "Colorado",
           "WOAH Poultry"
          ],
          [
           "Box Butte",
           "Nebraska",
           "WOAH Non-Poultry"
          ],
          [
           "Branch",
           "Michigan",
           "WOAH Non-Poultry"
          ],
          [
           "Brazoria",
           "Texas",
           "WOAH Non-Poultry"
          ],
          [
           "Bremer",
           "Iowa",
           "WOAH Non-Poultry; Commercial Turkey Meat Bird"
          ],
          [
           "Bristol",
           "Massachusetts",
           "WOAH Non-Poultry"
          ],
          [
           "Bronx",
           "New York",
           "Live Bird Market"
          ],
          [
           "Brookings",
           "South Dakota",
           "WOAH Non-Poultry"
          ],
          [
           "Broward",
           "Florida",
           "WOAH Non-Poultry; WOAH Poultry"
          ],
          [
           "Brown",
           "Minnesota",
           "Commercial Turkey Breeder Hens; WOAH Non-Poultry; Commercial Turkey Meat Bird"
          ],
          [
           "Brule",
           "South Dakota",
           "Commercial Turkey Meat Bird; WOAH Non-Poultry; Commercial Upland Gamebird Producer"
          ],
          [
           "Bucks",
           "Pennsylvania",
           "WOAH Poultry"
          ],
          [
           "Buena Vista",
           "Iowa",
           "Commercial Turkey Meat Bird; Commercial Table Egg Layer"
          ],
          [
           "Burke",
           "North Dakota",
           "WOAH Non-Poultry"
          ],
          [
           "Burnet",
           "Texas",
           "WOAH Non-Poultry"
          ],
          [
           "Burnett",
           "Wisconsin",
           "Commercial Turkey Meat Bird"
          ],
          [
           "Butler",
           "Ohio",
           "WOAH Poultry"
          ],
          [
           "Butler",
           "Nebraska",
           "Commercial Broiler Production"
          ],
          [
           "Butler",
           "Pennsylvania",
           "WOAH Non-Poultry"
          ],
          [
           "Butte",
           "California",
           "WOAH Non-Poultry; Commercial Raised for Release Upland Game Bird"
          ],
          [
           "Cache",
           "Utah",
           "Commercial Table Egg Layer; WOAH Non-Poultry"
          ],
          [
           "Calaveras",
           "California",
           "WOAH Non-Poultry"
          ],
          [
           "Calcasieu",
           "Louisiana",
           "WOAH Non-Poultry"
          ],
          [
           "Caledonia",
           "Vermont",
           "WOAH Non-Poultry"
          ],
          [
           "Campbell",
           "Wyoming",
           "WOAH Non-Poultry"
          ],
          [
           "Canyon",
           "Idaho",
           "WOAH Non-Poultry; WOAH Poultry"
          ],
          [
           "Caribou",
           "Idaho",
           "WOAH Non-Poultry"
          ],
          [
           "Caroline",
           "Maryland",
           "Commercial Broiler Production"
          ],
          [
           "Caroline",
           "Virginia",
           "WOAH Non-Poultry"
          ],
          [
           "Carroll",
           "Arkansas",
           "Commercial Turkey Meat Bird; Commercial Broiler Production"
          ],
          [
           "Carroll",
           "Illinois",
           "WOAH Non-Poultry"
          ],
          [
           "Carroll",
           "Missouri",
           "WOAH Non-Poultry"
          ],
          [
           "Carson",
           "Texas",
           "WOAH Non-Poultry"
          ],
          [
           "Carson City",
           "Nevada",
           "WOAH Non-Poultry"
          ],
          [
           "Carter",
           "Oklahoma",
           "WOAH Non-Poultry"
          ],
          [
           "Carver",
           "Minnesota",
           "WOAH Non-Poultry"
          ],
          [
           "Cascade",
           "Montana",
           "WOAH Poultry; WOAH Non-Poultry"
          ],
          [
           "Cass",
           "Missouri",
           "WOAH Non-Poultry"
          ],
          [
           "Cass",
           "Michigan",
           "WOAH Non-Poultry"
          ],
          [
           "Cass",
           "North Dakota",
           "WOAH Non-Poultry"
          ],
          [
           "Cassia",
           "Idaho",
           "WOAH Non-Poultry"
          ],
          [
           "Cecil",
           "Maryland",
           "Commercial Table Egg Pullets; Commercial Table Egg Layer"
          ],
          [
           "Cedar",
           "Missouri",
           "WOAH Non-Poultry"
          ],
          [
           "Cerro Gordo",
           "Iowa",
           "WOAH Non-Poultry"
          ],
          [
           "Charles",
           "Maryland",
           "WOAH Non-Poultry"
          ],
          [
           "Charles Mix",
           "South Dakota",
           "Commercial Upland Gamebird Producer; WOAH Poultry; Commercial Turkey Meat Bird"
          ],
          [
           "Cherokee",
           "Iowa",
           "Commercial Turkey Meat Bird"
          ],
          [
           "Chester",
           "Pennsylvania",
           "Commercial Turkey Meat Bird; WOAH Poultry"
          ],
          [
           "Chickasaw",
           "Iowa",
           "WOAH Non-Poultry"
          ],
          [
           "Chilton",
           "Alabama",
           "Commercial Upland Gamebird Producer"
          ],
          [
           "Chippewa",
           "Minnesota",
           "Commercial Turkey Meat Bird"
          ],
          [
           "Chisago",
           "Minnesota",
           "WOAH Non-Poultry; WOAH Poultry"
          ],
          [
           "Churchill",
           "Nevada",
           "WOAH Non-Poultry"
          ],
          [
           "Clackamas",
           "Oregon",
           "WOAH Non-Poultry; Commercial Table Egg Layer"
          ],
          [
           "Clallam",
           "Washington",
           "WOAH Non-Poultry"
          ],
          [
           "Clark",
           "South Dakota",
           "Commercial Turkey Meat Bird; WOAH Non-Poultry; Commercial Upland Gamebird Producer"
          ],
          [
           "Clatsop",
           "Oregon",
           "WOAH Non-Poultry"
          ],
          [
           "Clay",
           "Arkansas",
           "Commercial Broiler Production"
          ],
          [
           "Clay",
           "Iowa",
           "WOAH Poultry"
          ],
          [
           "Clay",
           "Minnesota",
           "WOAH Non-Poultry"
          ],
          [
           "Clay",
           "Florida",
           "WOAH Non-Poultry"
          ],
          [
           "Clayton",
           "Georgia",
           "WOAH Non-Poultry"
          ],
          [
           "Cleveland",
           "Oklahoma",
           "WOAH Non-Poultry"
          ],
          [
           "Cleveland",
           "Arkansas",
           "Commercial Broiler Breeder; Commercial Broiler Production"
          ],
          [
           "Clinton",
           "Iowa",
           "WOAH Non-Poultry"
          ],
          [
           "Codington",
           "South Dakota",
           "WOAH Poultry"
          ],
          [
           "Coffey",
           "Kansas",
           "WOAH Non-Poultry"
          ],
          [
           "Colfax",
           "Nebraska",
           "WOAH Non-Poultry"
          ],
          [
           "Collier",
           "Florida",
           "WOAH Non-Poultry"
          ],
          [
           "Columbia",
           "Oregon",
           "WOAH Non-Poultry"
          ],
          [
           "Columbia",
           "Wisconsin",
           "WOAH Non-Poultry"
          ],
          [
           "Columbia",
           "New York",
           "WOAH Poultry"
          ],
          [
           "Contra Costa",
           "California",
           "WOAH Non-Poultry"
          ],
          [
           "Converse",
           "Wyoming",
           "WOAH Non-Poultry"
          ],
          [
           "Cook",
           "Illinois",
           "WOAH Poultry"
          ],
          [
           "Cooper",
           "Missouri",
           "Commercial Turkey Breeder Hens"
          ],
          [
           "Coos",
           "Oregon",
           "WOAH Non-Poultry"
          ],
          [
           "Copiah",
           "Mississippi",
           "Commercial Broiler Production; WOAH Poultry"
          ],
          [
           "Cowlitz",
           "Washington",
           "WOAH Non-Poultry"
          ],
          [
           "Craighead",
           "Arkansas",
           "WOAH Non-Poultry"
          ],
          [
           "Creek",
           "Oklahoma",
           "WOAH Non-Poultry"
          ],
          [
           "Crook",
           "Oregon",
           "WOAH Non-Poultry"
          ],
          [
           "Crow Wing",
           "Minnesota",
           "WOAH Poultry; WOAH Non-Poultry"
          ],
          [
           "Culebra",
           "Puerto Rico",
           "WOAH Poultry"
          ],
          [
           "Cullman",
           "Alabama",
           "Commercial Broiler Production"
          ],
          [
           "Cumberland",
           "Maine",
           "WOAH Non-Poultry; WOAH Poultry"
          ],
          [
           "Cumberland",
           "Pennsylvania",
           "Commercial Duck Meat Bird; Commercial Broiler Production"
          ],
          [
           "Dade",
           "Missouri",
           "WOAH Non-Poultry; Commercial Turkey Meat Bird"
          ],
          [
           "Dakota",
           "Minnesota",
           "Commercial Turkey Meat Bird"
          ],
          [
           "Dallas",
           "Iowa",
           "WOAH Non-Poultry"
          ],
          [
           "Dallas",
           "Texas",
           "WOAH Non-Poultry"
          ],
          [
           "Dallas",
           "Missouri",
           "WOAH Poultry; Commercial Turkey Meat Bird"
          ],
          [
           "Dare",
           "North Carolina",
           "WOAH Non-Poultry"
          ],
          [
           "Darke",
           "Ohio",
           "Commercial Table Egg Layer; Commercial Turkey Meat Bird; Commercial Table Egg Pullets"
          ],
          [
           "Dauphin",
           "Pennsylvania",
           "WOAH Non-Poultry; Commercial Table Egg Layer"
          ],
          [
           "Davidson",
           "Tennessee",
           "WOAH Non-Poultry"
          ],
          [
           "Daviess",
           "Indiana",
           "Commercial Turkey Meat Bird"
          ],
          [
           "Daviess",
           "Missouri",
           "WOAH Poultry"
          ],
          [
           "Dawes",
           "Nebraska",
           "WOAH Non-Poultry"
          ],
          [
           "Day",
           "South Dakota",
           "WOAH Poultry"
          ],
          [
           "De Soto",
           "Florida",
           "WOAH Non-Poultry"
          ],
          [
           "Deaf Smith",
           "Texas",
           "WOAH Non-Poultry"
          ],
          [
           "Defiance",
           "Ohio",
           "Commercial Table Egg Layer"
          ],
          [
           "Del Norte",
           "California",
           "WOAH Poultry"
          ],
          [
           "Delaware",
           "New York",
           "WOAH Non-Poultry"
          ],
          [
           "Delta",
           "Colorado",
           "Commercial Broiler Breeder"
          ],
          [
           "Denton",
           "Texas",
           "WOAH Non-Poultry"
          ],
          [
           "Deschutes",
           "Oregon",
           "WOAH Non-Poultry; WOAH Poultry"
          ],
          [
           "Deuel",
           "South Dakota",
           "Commercial Upland Gamebird Producer"
          ],
          [
           "Dickey",
           "North Dakota",
           "WOAH Poultry; Commercial Turkey Meat Bird"
          ],
          [
           "Dickinson",
           "Kansas",
           "WOAH Poultry"
          ],
          [
           "Dixon",
           "Nebraska",
           "Commercial Table Egg Layer"
          ],
          [
           "Dodge",
           "Nebraska",
           "WOAH Non-Poultry"
          ],
          [
           "Dodge",
           "Minnesota",
           "Commercial Turkey Meat Bird; Commercial Breeder Operation"
          ],
          [
           "Doniphan",
           "Kansas",
           "Commercial Raised for Release Upland Game Bird; WOAH Non-Poultry"
          ],
          [
           "Dorchester",
           "Maryland",
           "Commercial Broiler Production"
          ],
          [
           "Douglas",
           "Kansas",
           "WOAH Non-Poultry"
          ],
          [
           "Douglas",
           "Minnesota",
           "Commercial Turkey Meat Bird"
          ],
          [
           "Douglas",
           "Oregon",
           "WOAH Non-Poultry"
          ],
          [
           "Douglas",
           "Nevada",
           "WOAH Non-Poultry"
          ],
          [
           "Dubois",
           "Indiana",
           "Commercial Turkey Meat Bird"
          ],
          [
           "Dukes",
           "Massachusetts",
           "WOAH Non-Poultry"
          ],
          [
           "Dunn",
           "Wisconsin",
           "Commercial Turkey Meat Bird; WOAH Non-Poultry"
          ],
          [
           "Duplin",
           "North Carolina",
           "Commercial Turkey Meat Bird"
          ],
          [
           "Durham",
           "North Carolina",
           "WOAH Non-Poultry"
          ],
          [
           "Dutchess",
           "New York",
           "WOAH Poultry; WOAH Non-Poultry"
          ],
          [
           "Duval",
           "Florida",
           "WOAH Non-Poultry"
          ],
          [
           "Eaton",
           "Michigan",
           "WOAH Non-Poultry"
          ],
          [
           "Edmunds",
           "South Dakota",
           "Commercial Upland Gamebird Producer; Commercial Turkey Meat Bird; Commercial Turkey Breeder Hens; Commercial Turkey Breeder Replacement Hens"
          ],
          [
           "El Dorado",
           "California",
           "WOAH Non-Poultry"
          ],
          [
           "Elbert",
           "Georgia",
           "Commercial Broiler Production; Commercial Broiler Breeder"
          ],
          [
           "Elk",
           "Kansas",
           "WOAH Non-Poultry"
          ],
          [
           "Elkhart",
           "Indiana",
           "WOAH Poultry; Commercial Duck Meat Bird; Commercial Duck Breeder"
          ],
          [
           "Ellis",
           "Texas",
           "WOAH Non-Poultry"
          ],
          [
           "Ellsworth",
           "Kansas",
           "WOAH Non-Poultry"
          ],
          [
           "Emmons",
           "North Dakota",
           "WOAH Non-Poultry"
          ],
          [
           "Erath",
           "Texas",
           "Commercial Upland Gamebird Producer"
          ],
          [
           "Essex",
           "Massachusetts",
           "WOAH Poultry; WOAH Non-Poultry"
          ],
          [
           "Etowah",
           "Alabama",
           "WOAH Non-Poultry"
          ],
          [
           "Fall River",
           "South Dakota",
           "WOAH Non-Poultry"
          ],
          [
           "Faulk",
           "South Dakota",
           "Commercial Turkey Meat Bird"
          ],
          [
           "Fauquier",
           "Virginia",
           "WOAH Non-Poultry"
          ],
          [
           "Fayette",
           "Kentucky",
           "WOAH Poultry"
          ],
          [
           "Fergus",
           "Montana",
           "WOAH Non-Poultry"
          ],
          [
           "Fillmore",
           "Minnesota",
           "Commercial Turkey Meat Bird"
          ],
          [
           "Flathead",
           "Montana",
           "WOAH Non-Poultry"
          ],
          [
           "Fond Du Lac",
           "Wisconsin",
           "WOAH Non-Poultry"
          ],
          [
           "Franklin",
           "Vermont",
           "WOAH Non-Poultry"
          ],
          [
           "Franklin",
           "Washington",
           "Commercial Table Egg Layer"
          ],
          [
           "Franklin",
           "Idaho",
           "WOAH Non-Poultry"
          ],
          [
           "Franklin",
           "Ohio",
           "WOAH Non-Poultry"
          ],
          [
           "Franklin",
           "Iowa",
           "Commercial Table Egg Pullets"
          ],
          [
           "Franklin",
           "Kansas",
           "WOAH Poultry"
          ],
          [
           "Freeborn",
           "Minnesota",
           "WOAH Non-Poultry"
          ],
          [
           "Fremont",
           "Wyoming",
           "WOAH Non-Poultry"
          ],
          [
           "Fresno",
           "California",
           "Commercial Broiler Production; Commercial Duck Breeder; Commercial Turkey Meat Bird; WOAH Non-Poultry; Commercial Broiler Breeder"
          ],
          [
           "Fulton",
           "New York",
           "WOAH Non-Poultry"
          ],
          [
           "Fulton",
           "Kentucky",
           "Commercial Broiler Production"
          ],
          [
           "Gage",
           "Nebraska",
           "Commercial Broiler Production"
          ],
          [
           "Gallatin",
           "Montana",
           "WOAH Non-Poultry"
          ],
          [
           "Garfield",
           "Oklahoma",
           "WOAH Non-Poultry"
          ],
          [
           "Gem",
           "Idaho",
           "WOAH Non-Poultry"
          ],
          [
           "Genesee",
           "Michigan",
           "WOAH Non-Poultry"
          ],
          [
           "Gentry",
           "Missouri",
           "WOAH Non-Poultry"
          ],
          [
           "Gibson",
           "Tennessee",
           "Commercial Broiler Breeder"
          ],
          [
           "Glacier",
           "Montana",
           "WOAH Poultry; WOAH Non-Poultry"
          ],
          [
           "Glenn",
           "California",
           "Commercial Upland Gamebird Producer"
          ],
          [
           "Gloucester",
           "Virginia",
           "WOAH Non-Poultry"
          ],
          [
           "Golden Valley",
           "North Dakota",
           "WOAH Non-Poultry"
          ],
          [
           "Goodhue",
           "Minnesota",
           "WOAH Non-Poultry"
          ],
          [
           "Gooding",
           "Idaho",
           "Commercial Upland Gamebird Producer; WOAH Non-Poultry; WOAH Poultry"
          ],
          [
           "Grady",
           "Oklahoma",
           "WOAH Non-Poultry"
          ],
          [
           "Graham",
           "Arizona",
           "WOAH Non-Poultry"
          ],
          [
           "Granite",
           "Montana",
           "WOAH Poultry"
          ],
          [
           "Grant",
           "South Dakota",
           "WOAH Non-Poultry"
          ],
          [
           "Grant",
           "Minnesota",
           "WOAH Non-Poultry"
          ],
          [
           "Grant",
           "Kansas",
           "WOAH Poultry"
          ],
          [
           "Gratiot",
           "Michigan",
           "Commercial Turkey Meat Bird"
          ],
          [
           "Greene",
           "Mississippi",
           "Commercial Broiler Breeder"
          ],
          [
           "Greene",
           "Ohio",
           "WOAH Poultry"
          ],
          [
           "Greene",
           "Indiana",
           "Commercial Turkey Meat Bird"
          ],
          [
           "Greene",
           "Tennessee",
           "WOAH Non-Poultry"
          ],
          [
           "Gregory",
           "South Dakota",
           "Commercial Upland Gamebird Producer; WOAH Non-Poultry"
          ],
          [
           "Grimes",
           "Texas",
           "WOAH Non-Poultry"
          ],
          [
           "Grundy",
           "Illinois",
           "WOAH Poultry"
          ],
          [
           "Guilford",
           "North Carolina",
           "WOAH Non-Poultry"
          ],
          [
           "Guthrie",
           "Iowa",
           "WOAH Non-Poultry; Commercial Table Egg Layer"
          ],
          [
           "Hale",
           "Texas",
           "WOAH Non-Poultry"
          ],
          [
           "Hamilton",
           "Iowa",
           "Commercial Breeder (Multiple Bird Species); Commercial Turkey Poult Supplier; Commercial Turkey Meat Bird"
          ],
          [
           "Hamlin",
           "South Dakota",
           "Commercial Turkey Meat Bird; WOAH Non-Poultry"
          ],
          [
           "Hampton City",
           "Virginia",
           "WOAH Non-Poultry"
          ],
          [
           "Hancock",
           "Maine",
           "WOAH Non-Poultry"
          ],
          [
           "Hanson",
           "South Dakota",
           "Commercial Turkey Meat Bird; WOAH Non-Poultry"
          ],
          [
           "Hardin",
           "Ohio",
           "Commercial Table Egg Pullets; Commercial Table Egg Layer"
          ],
          [
           "Hardin",
           "Iowa",
           "Commercial Turkey Meat Bird"
          ],
          [
           "Harrison",
           "Missouri",
           "WOAH Non-Poultry"
          ],
          [
           "Harvey",
           "Kansas",
           "WOAH Non-Poultry"
          ],
          [
           "Hendry",
           "Florida",
           "WOAH Non-Poultry"
          ],
          [
           "Hennepin",
           "Minnesota",
           "WOAH Non-Poultry"
          ],
          [
           "Henry",
           "Illinois",
           "WOAH Poultry"
          ],
          [
           "Henry",
           "Georgia",
           "WOAH Non-Poultry"
          ],
          [
           "Hill",
           "Montana",
           "WOAH Non-Poultry"
          ],
          [
           "Hillsborough",
           "Florida",
           "WOAH Non-Poultry; Live Bird Market"
          ],
          [
           "Holt",
           "Nebraska",
           "WOAH Non-Poultry"
          ],
          [
           "Honolulu",
           "Hawaii",
           "WOAH Non-Poultry"
          ],
          [
           "Horry",
           "South Carolina",
           "WOAH Non-Poultry"
          ],
          [
           "Hot Springs",
           "Wyoming",
           "WOAH Non-Poultry"
          ],
          [
           "Houston",
           "Minnesota",
           "WOAH Non-Poultry"
          ],
          [
           "Howard",
           "Missouri",
           "WOAH Non-Poultry"
          ],
          [
           "Humboldt",
           "Iowa",
           "Commercial Table Egg Breeder"
          ],
          [
           "Hutchinson",
           "South Dakota",
           "Commercial Turkey Meat Bird"
          ],
          [
           "Hyde",
           "North Carolina",
           "Commercial Table Egg Layer"
          ],
          [
           "Ida",
           "Iowa",
           "Commercial Turkey Meat Bird"
          ],
          [
           "Indian River",
           "Florida",
           "WOAH Non-Poultry; WOAH Poultry"
          ],
          [
           "Ingham",
           "Michigan",
           "WOAH Poultry"
          ],
          [
           "Ionia",
           "Michigan",
           "WOAH Non-Poultry; Commercial Table Egg Layer"
          ],
          [
           "Iron",
           "Utah",
           "WOAH Poultry"
          ],
          [
           "Isanti",
           "Minnesota",
           "WOAH Non-Poultry"
          ],
          [
           "Itasca",
           "Minnesota",
           "WOAH Non-Poultry"
          ],
          [
           "Jackson",
           "Michigan",
           "WOAH Non-Poultry"
          ],
          [
           "Jackson",
           "Arkansas",
           "WOAH Non-Poultry"
          ],
          [
           "Jackson",
           "Missouri",
           "WOAH Non-Poultry"
          ],
          [
           "Jackson",
           "Oregon",
           "WOAH Non-Poultry"
          ],
          [
           "Jackson",
           "Indiana",
           "Commercial Table Egg Layer"
          ],
          [
           "Jasper",
           "Missouri",
           "Commercial Turkey Meat Bird"
          ],
          [
           "Jasper",
           "Indiana",
           "WOAH Non-Poultry"
          ],
          [
           "Jay",
           "Indiana",
           "Commercial Table Egg Layer; Commercial Turkey Meat Bird"
          ],
          [
           "Jefferson",
           "Idaho",
           "WOAH Non-Poultry"
          ],
          [
           "Jefferson",
           "Wisconsin",
           "Commercial Upland Gamebird Producer; Commercial Table Egg Layer"
          ],
          [
           "Jefferson",
           "Colorado",
           "WOAH Poultry; WOAH Non-Poultry"
          ],
          [
           "Jefferson",
           "Washington",
           "WOAH Non-Poultry"
          ],
          [
           "Jefferson Davis",
           "Louisiana",
           "WOAH Non-Poultry"
          ],
          [
           "Jerauld",
           "South Dakota",
           "Commercial Turkey Meat Bird"
          ],
          [
           "Jerome",
           "Idaho",
           "WOAH Non-Poultry; WOAH Poultry"
          ],
          [
           "Jewell",
           "Kansas",
           "WOAH Non-Poultry"
          ],
          [
           "Johnson",
           "Nebraska",
           "Commercial Broiler Production"
          ],
          [
           "Johnson",
           "Arkansas",
           "Commercial Broiler Production"
          ],
          [
           "Johnson",
           "Kansas",
           "WOAH Poultry"
          ],
          [
           "Johnson",
           "Indiana",
           "WOAH Non-Poultry"
          ],
          [
           "Johnson",
           "Wyoming",
           "WOAH Non-Poultry"
          ],
          [
           "Johnson",
           "Missouri",
           "WOAH Non-Poultry"
          ],
          [
           "Johnston",
           "North Carolina",
           "Commercial Turkey Meat Bird"
          ],
          [
           "Jones",
           "Iowa",
           "WOAH Non-Poultry"
          ],
          [
           "Josephine",
           "Oregon",
           "WOAH Non-Poultry"
          ],
          [
           "Judith Basin",
           "Montana",
           "WOAH Non-Poultry"
          ],
          [
           "Kalamazoo",
           "Michigan",
           "WOAH Non-Poultry"
          ],
          [
           "Kanawha",
           "West Virginia",
           "WOAH Non-Poultry"
          ],
          [
           "Kandiyohi",
           "Minnesota",
           "Commercial Turkey Breeder Hens; Commercial Breeder Operation; Commercial Turkey Meat Bird; Commercial Turkey Breeder Toms"
          ],
          [
           "Kane",
           "Illinois",
           "WOAH Non-Poultry"
          ],
          [
           "Kearney",
           "Nebraska",
           "WOAH Non-Poultry"
          ],
          [
           "Kennebec",
           "Maine",
           "WOAH Non-Poultry"
          ],
          [
           "Kenosha",
           "Wisconsin",
           "WOAH Poultry"
          ],
          [
           "Kent",
           "Delaware",
           "WOAH Non-Poultry; Commercial Broiler Production"
          ],
          [
           "Kern",
           "California",
           "WOAH Poultry; Commercial Table Egg Layer"
          ],
          [
           "Kidder",
           "North Dakota",
           "WOAH Poultry"
          ],
          [
           "King",
           "Washington",
           "WOAH Poultry; WOAH Non-Poultry"
          ],
          [
           "Kings",
           "California",
           "Commercial Broiler Production; WOAH Non-Poultry"
          ],
          [
           "Kings",
           "New York",
           "Live Bird Market"
          ],
          [
           "Kingsbury",
           "South Dakota",
           "Commercial Turkey Meat Bird; WOAH Non-Poultry; Commercial Table Egg Layer"
          ],
          [
           "Kitsap",
           "Washington",
           "WOAH Non-Poultry"
          ],
          [
           "Kittitas",
           "Washington",
           "WOAH Poultry"
          ],
          [
           "Klamath",
           "Oregon",
           "WOAH Non-Poultry"
          ],
          [
           "Knox",
           "Nebraska",
           "WOAH Poultry; WOAH Non-Poultry; Commercial Table Egg Layer"
          ],
          [
           "Knox",
           "Maine",
           "WOAH Non-Poultry"
          ],
          [
           "Kossuth",
           "Iowa",
           "WOAH Poultry; WOAH Non-Poultry"
          ],
          [
           "La Plata",
           "Colorado",
           "WOAH Non-Poultry; WOAH Poultry"
          ],
          [
           "Lac Qui Parle",
           "Minnesota",
           "Commercial Turkey Meat Bird"
          ],
          [
           "Lafayette",
           "Arkansas",
           "WOAH Non-Poultry"
          ],
          [
           "Lagrange",
           "Indiana",
           "Commercial Duck Breeder"
          ],
          [
           "Lake",
           "South Dakota",
           "Commercial Turkey Meat Bird; WOAH Non-Poultry"
          ],
          [
           "Lake",
           "Florida",
           "WOAH Non-Poultry"
          ],
          [
           "Lamoille",
           "Vermont",
           "WOAH Non-Poultry"
          ],
          [
           "Lamoure",
           "North Dakota",
           "Commercial Turkey Meat Bird; WOAH Non-Poultry"
          ],
          [
           "Lampasas",
           "Texas",
           "WOAH Poultry"
          ],
          [
           "Lancaster",
           "Nebraska",
           "WOAH Poultry"
          ],
          [
           "Lancaster",
           "Pennsylvania",
           "WOAH Non-Poultry; Commercial Table Egg Layer; Commercial Duck Meat Bird; Commercial Broiler Breeder Pullets; Commercial Broiler Production; WOAH Poultry; Commercial Duck Breeder; Commercial Turkey Meat Bird"
          ],
          [
           "Lane",
           "Oregon",
           "WOAH Poultry"
          ],
          [
           "Lapeer",
           "Michigan",
           "WOAH Poultry"
          ],
          [
           "Larimer",
           "Colorado",
           "WOAH Non-Poultry"
          ],
          [
           "Lassen",
           "California",
           "WOAH Non-Poultry"
          ],
          [
           "Latah",
           "Idaho",
           "WOAH Poultry"
          ],
          [
           "Lawrence",
           "Illinois",
           "Commercial Turkey Meat Bird"
          ],
          [
           "Lawrence",
           "Alabama",
           "WOAH Non-Poultry"
          ],
          [
           "Lawrence",
           "Mississippi",
           "Commercial Broiler Breeder"
          ],
          [
           "Lawrence",
           "Missouri",
           "Commercial Turkey Meat Bird; Commercial Turkey Breeder Replacement Hens; Commercial Turkey Breeder Hens"
          ],
          [
           "Le Sueur",
           "Minnesota",
           "Commercial Turkey Meat Bird; WOAH Non-Poultry"
          ],
          [
           "Leake",
           "Mississippi",
           "Commercial Broiler Production"
          ],
          [
           "Lebanon",
           "Pennsylvania",
           "Commercial Broiler Production; Commercial Table Egg Layer"
          ],
          [
           "Lehigh",
           "Pennsylvania",
           "Commercial Turkey Meat Bird; Commercial Turkey Breeder Toms; Commercial Turkey Breeder Hens; WOAH Poultry"
          ],
          [
           "Lemhi",
           "Idaho",
           "WOAH Non-Poultry"
          ],
          [
           "Lenoir",
           "North Carolina",
           "Commercial Turkey Meat Bird"
          ],
          [
           "Lewis",
           "Washington",
           "WOAH Non-Poultry"
          ],
          [
           "Lewis And Clark",
           "Montana",
           "WOAH Non-Poultry"
          ],
          [
           "Licking",
           "Ohio",
           "WOAH Non-Poultry"
          ],
          [
           "Lincoln",
           "Tennessee",
           "WOAH Non-Poultry"
          ],
          [
           "Lincoln",
           "Idaho",
           "WOAH Poultry"
          ],
          [
           "Lincoln",
           "Wyoming",
           "WOAH Non-Poultry"
          ],
          [
           "Lincoln",
           "Maine",
           "WOAH Non-Poultry"
          ],
          [
           "Lincoln",
           "Nebraska",
           "WOAH Poultry"
          ],
          [
           "Linn",
           "Oregon",
           "WOAH Non-Poultry; Commercial Broiler Production"
          ],
          [
           "Livingston",
           "Illinois",
           "Commercial Turkey Breeder Hens"
          ],
          [
           "Livingston",
           "Michigan",
           "WOAH Non-Poultry"
          ],
          [
           "Logan",
           "Kentucky",
           "WOAH Non-Poultry"
          ],
          [
           "Louisa",
           "Iowa",
           "WOAH Non-Poultry"
          ],
          [
           "Lowndes",
           "Mississippi",
           "WOAH Non-Poultry"
          ],
          [
           "Luzerne",
           "Pennsylvania",
           "WOAH Non-Poultry"
          ],
          [
           "Lyon",
           "Minnesota",
           "Commercial Turkey Meat Bird"
          ],
          [
           "Macomb",
           "Michigan",
           "WOAH Non-Poultry"
          ],
          [
           "Madera",
           "California",
           "WOAH Non-Poultry; Commercial Duck Meat Bird"
          ],
          [
           "Madison",
           "Arkansas",
           "Commercial Broiler Breeder Pullets"
          ],
          [
           "Madison",
           "Idaho",
           "WOAH Poultry"
          ],
          [
           "Madison",
           "New York",
           "WOAH Non-Poultry"
          ],
          [
           "Mahaska",
           "Iowa",
           "WOAH Non-Poultry"
          ],
          [
           "Mahoning",
           "Ohio",
           "WOAH Non-Poultry"
          ],
          [
           "Malheur",
           "Oregon",
           "WOAH Non-Poultry"
          ],
          [
           "Marathon",
           "Wisconsin",
           "WOAH Non-Poultry"
          ],
          [
           "Maricopa",
           "Arizona",
           "WOAH Non-Poultry"
          ],
          [
           "Maries",
           "Missouri",
           "WOAH Non-Poultry"
          ],
          [
           "Marin",
           "California",
           "Commercial Table Egg Pullets; Commercial Duck Meat Bird"
          ],
          [
           "Marinette",
           "Wisconsin",
           "WOAH Non-Poultry"
          ],
          [
           "Marion",
           "Oregon",
           "Commercial Broiler Production; WOAH Non-Poultry"
          ],
          [
           "Marshall",
           "Alabama",
           "Commercial Broiler Breeder Pullets"
          ],
          [
           "Martin",
           "Minnesota",
           "WOAH Non-Poultry"
          ],
          [
           "Martin",
           "Florida",
           "WOAH Non-Poultry"
          ],
          [
           "Mason",
           "Washington",
           "WOAH Non-Poultry"
          ],
          [
           "Matanuska Susitna",
           "Alaska",
           "WOAH Non-Poultry; WOAH Poultry"
          ],
          [
           "Mcdonald",
           "Missouri",
           "Commercial Broiler Production; Commercial Turkey Meat Bird; Commercial Broiler Breeder; Primary Broiler Breeder Pedigree Farm"
          ],
          [
           "Mchenry",
           "North Dakota",
           "WOAH Poultry"
          ],
          [
           "Mcintosh",
           "North Dakota",
           "WOAH Non-Poultry; WOAH Poultry"
          ],
          [
           "Mclean",
           "Illinois",
           "WOAH Non-Poultry"
          ],
          [
           "Mcpherson",
           "Kansas",
           "WOAH Poultry; Commercial Turkey Breeder Hens"
          ],
          [
           "Mcpherson",
           "South Dakota",
           "Commercial Turkey Meat Bird; Commercial Turkey Breeder Hens"
          ],
          [
           "Meeker",
           "Minnesota",
           "Commercial Turkey Meat Bird; Commercial Table Egg Layer"
          ],
          [
           "Mendocino",
           "California",
           "WOAH Non-Poultry"
          ],
          [
           "Menominee",
           "Michigan",
           "WOAH Non-Poultry; WOAH Poultry"
          ],
          [
           "Merced",
           "California",
           "Commercial Table Egg Layer; Commercial Turkey Meat Bird; Commercial Table Egg Pullets; Commercial Duck Meat Bird; Commercial Broiler Production; Commercial Duck Breeder; WOAH Non-Poultry"
          ],
          [
           "Mercer",
           "Ohio",
           "Commercial Turkey Meat Bird; Commercial Table Egg Layer; WOAH Poultry; Commercial Table Egg Pullets; Commercial Duck Meat Bird"
          ],
          [
           "Merrick",
           "Nebraska",
           "WOAH Non-Poultry"
          ],
          [
           "Merrimack",
           "New Hampshire",
           "WOAH Poultry"
          ],
          [
           "Mesa",
           "Colorado",
           "WOAH Non-Poultry"
          ],
          [
           "Miami-dade",
           "Florida",
           "Live Bird Sales  (non-slaughter); WOAH Poultry; Live Bird Market"
          ],
          [
           "Middlesex",
           "Massachusetts",
           "WOAH Non-Poultry"
          ],
          [
           "Mifflin",
           "Pennsylvania",
           "WOAH Non-Poultry"
          ],
          [
           "Mills",
           "Iowa",
           "WOAH Non-Poultry"
          ],
          [
           "Miner",
           "South Dakota",
           "WOAH Poultry"
          ],
          [
           "Minnehaha",
           "South Dakota",
           "WOAH Non-Poultry"
          ],
          [
           "Missoula",
           "Montana",
           "WOAH Non-Poultry; WOAH Poultry"
          ],
          [
           "Mitchell",
           "Kansas",
           "WOAH Non-Poultry; Commercial Upland Gamebird Producer; WOAH Poultry; Commercial Raised for Release Upland Game Bird"
          ],
          [
           "Modoc",
           "California",
           "WOAH Non-Poultry"
          ],
          [
           "Moffat",
           "Colorado",
           "WOAH Non-Poultry"
          ],
          [
           "Monmouth",
           "New Jersey",
           "WOAH Poultry"
          ],
          [
           "Monona",
           "Iowa",
           "WOAH Non-Poultry"
          ],
          [
           "Monroe",
           "Pennsylvania",
           "WOAH Non-Poultry"
          ],
          [
           "Monroe",
           "New York",
           "WOAH Poultry; WOAH Non-Poultry"
          ],
          [
           "Monroe",
           "Mississippi",
           "WOAH Non-Poultry"
          ],
          [
           "Monroe",
           "Michigan",
           "WOAH Non-Poultry"
          ],
          [
           "Monterey",
           "California",
           "Commercial Duck Breeder"
          ],
          [
           "Montgomery",
           "Indiana",
           "WOAH Non-Poultry"
          ],
          [
           "Montgomery",
           "Maryland",
           "WOAH Non-Poultry"
          ],
          [
           "Montmorency",
           "Michigan",
           "WOAH Poultry"
          ],
          [
           "Montrose",
           "Colorado",
           "WOAH Non-Poultry; Commercial Broiler Breeder"
          ],
          [
           "Moody",
           "South Dakota",
           "Commercial Table Egg Layer; Commercial Turkey Meat Bird"
          ],
          [
           "Moore",
           "Texas",
           "WOAH Non-Poultry"
          ],
          [
           "Morgan",
           "Colorado",
           "WOAH Non-Poultry"
          ],
          [
           "Morrison",
           "Minnesota",
           "Commercial Turkey Meat Bird; WOAH Non-Poultry; Commercial Table Egg Layer; Commercial Broiler Production"
          ],
          [
           "Mountrail",
           "North Dakota",
           "WOAH Non-Poultry"
          ],
          [
           "Mower",
           "Minnesota",
           "WOAH Non-Poultry"
          ],
          [
           "Multnomah",
           "Oregon",
           "WOAH Non-Poultry"
          ],
          [
           "Muskegon",
           "Michigan",
           "Commercial Turkey Meat Bird"
          ],
          [
           "Nance",
           "Nebraska",
           "WOAH Non-Poultry"
          ],
          [
           "Nelson",
           "North Dakota",
           "WOAH Non-Poultry"
          ],
          [
           "Nemaha",
           "Nebraska",
           "Commercial Turkey Breeder Hens"
          ],
          [
           "Neosho",
           "Kansas",
           "WOAH Poultry"
          ],
          [
           "New Castle",
           "Delaware",
           "Commercial Table Egg Pullets; Commercial Table Egg Layer"
          ],
          [
           "New Haven",
           "Connecticut",
           "WOAH Non-Poultry"
          ],
          [
           "New London",
           "Connecticut",
           "WOAH Non-Poultry"
          ],
          [
           "Newaygo",
           "Michigan",
           "Commercial Turkey Meat Bird"
          ],
          [
           "Newport",
           "Rhode Island",
           "WOAH Non-Poultry"
          ],
          [
           "Newton",
           "Missouri",
           "Commercial Broiler Production; Commercial Turkey Meat Bird; Commercial Table Egg Layer"
          ],
          [
           "Nobles",
           "Minnesota",
           "WOAH Non-Poultry"
          ],
          [
           "Northampton",
           "Pennsylvania",
           "WOAH Poultry"
          ],
          [
           "Northumberland",
           "Pennsylvania",
           "Commercial Raised for Release Upland Game Bird; WOAH Poultry"
          ],
          [
           "Nye",
           "Nevada",
           "WOAH Poultry"
          ],
          [
           "Oakland",
           "Michigan",
           "WOAH Non-Poultry"
          ],
          [
           "Obion",
           "Tennessee",
           "WOAH Poultry"
          ],
          [
           "O'brien",
           "Iowa",
           "Commercial Table Egg Layer"
          ],
          [
           "Ocean",
           "New Jersey",
           "WOAH Non-Poultry"
          ],
          [
           "Oconto",
           "Wisconsin",
           "WOAH Non-Poultry"
          ],
          [
           "Okanogan",
           "Washington",
           "WOAH Non-Poultry"
          ],
          [
           "Okeechobee",
           "Florida",
           "WOAH Non-Poultry"
          ],
          [
           "Olmsted",
           "Minnesota",
           "Commercial Turkey Breeder Hens; WOAH Non-Poultry"
          ],
          [
           "Onondaga",
           "New York",
           "WOAH Non-Poultry"
          ],
          [
           "Onslow",
           "North Carolina",
           "WOAH Non-Poultry"
          ],
          [
           "Orange",
           "Florida",
           "Live Bird Market; WOAH Non-Poultry"
          ],
          [
           "Orangeburg",
           "South Carolina",
           "WOAH Non-Poultry"
          ],
          [
           "Orleans",
           "Vermont",
           "WOAH Non-Poultry"
          ],
          [
           "Orleans",
           "New York",
           "WOAH Poultry"
          ],
          [
           "Osage",
           "Missouri",
           "Commercial Turkey Meat Bird"
          ],
          [
           "Osceola",
           "Florida",
           "WOAH Non-Poultry"
          ],
          [
           "Osceola",
           "Iowa",
           "Commercial Table Egg Layer"
          ],
          [
           "Ottawa",
           "Michigan",
           "Commercial Turkey Meat Bird"
          ],
          [
           "Otter Tail",
           "Minnesota",
           "Commercial Turkey Meat Bird; Commercial Breeder Operation; Commercial Turkey Breeder Hens"
          ],
          [
           "Owyhee",
           "Idaho",
           "WOAH Non-Poultry"
          ],
          [
           "Pacific",
           "Washington",
           "WOAH Poultry"
          ],
          [
           "Palm Beach",
           "Florida",
           "WOAH Non-Poultry"
          ],
          [
           "Palo Alto",
           "Iowa",
           "Commercial Turkey Meat Bird"
          ],
          [
           "Park",
           "Montana",
           "WOAH Non-Poultry"
          ],
          [
           "Park",
           "Wyoming",
           "WOAH Non-Poultry"
          ],
          [
           "Parmer",
           "Texas",
           "Commercial Table Egg Layer"
          ],
          [
           "Pasco",
           "Florida",
           "WOAH Non-Poultry"
          ],
          [
           "Pawnee",
           "Oklahoma",
           "WOAH Non-Poultry"
          ],
          [
           "Pemiscot",
           "Missouri",
           "WOAH Non-Poultry"
          ],
          [
           "Perry",
           "Missouri",
           "WOAH Non-Poultry"
          ],
          [
           "Phelps",
           "Missouri",
           "WOAH Non-Poultry"
          ],
          [
           "Philadelphia",
           "Pennsylvania",
           "Live Bird Market"
          ],
          [
           "Phillips",
           "Kansas",
           "WOAH Non-Poultry"
          ],
          [
           "Pickens",
           "Alabama",
           "WOAH Non-Poultry"
          ],
          [
           "Pierce",
           "Washington",
           "WOAH Non-Poultry"
          ],
          [
           "Pierce",
           "Wisconsin",
           "WOAH Non-Poultry"
          ],
          [
           "Pinal",
           "Arizona",
           "Commercial Table Egg Layer; WOAH Non-Poultry"
          ],
          [
           "Pine",
           "Minnesota",
           "WOAH Non-Poultry"
          ],
          [
           "Pipestone",
           "Minnesota",
           "Commercial Turkey Meat Bird"
          ],
          [
           "Pitkin",
           "Colorado",
           "WOAH Non-Poultry; WOAH Poultry"
          ],
          [
           "Piute",
           "Utah",
           "Commercial Turkey Meat Bird"
          ],
          [
           "Placer",
           "California",
           "WOAH Non-Poultry"
          ],
          [
           "Platte",
           "Wyoming",
           "WOAH Non-Poultry"
          ],
          [
           "Plymouth",
           "Massachusetts",
           "WOAH Non-Poultry"
          ],
          [
           "Pocahontas",
           "Iowa",
           "Commercial Turkey Meat Bird"
          ],
          [
           "Pocahontas",
           "West Virginia",
           "WOAH Poultry"
          ],
          [
           "Polk",
           "Oregon",
           "WOAH Non-Poultry"
          ],
          [
           "Polk",
           "Minnesota",
           "WOAH Non-Poultry"
          ],
          [
           "Polk",
           "Wisconsin",
           "WOAH Non-Poultry; Commercial Turkey Meat Bird"
          ],
          [
           "Pondera",
           "Montana",
           "WOAH Non-Poultry"
          ],
          [
           "Pope",
           "Arkansas",
           "WOAH Non-Poultry"
          ],
          [
           "Pope",
           "Minnesota",
           "WOAH Non-Poultry"
          ],
          [
           "Portage",
           "Ohio",
           "WOAH Non-Poultry"
          ],
          [
           "Posey",
           "Indiana",
           "WOAH Non-Poultry"
          ],
          [
           "Pottawatomie",
           "Kansas",
           "WOAH Non-Poultry"
          ],
          [
           "Pottawattamie",
           "Iowa",
           "WOAH Non-Poultry"
          ],
          [
           "Prowers",
           "Colorado",
           "Commercial Upland Gamebird Producer"
          ],
          [
           "Pueblo",
           "Colorado",
           "WOAH Non-Poultry"
          ],
          [
           "Putnam",
           "New York",
           "WOAH Poultry; WOAH Non-Poultry"
          ],
          [
           "Queen Anne's",
           "Maryland",
           "Commercial Broiler Production"
          ],
          [
           "Queens",
           "New York",
           "Live Bird Market"
          ],
          [
           "Racine",
           "Wisconsin",
           "Commercial Duck Meat Bird; WOAH Poultry"
          ],
          [
           "Ralls",
           "Missouri",
           "WOAH Non-Poultry"
          ],
          [
           "Randolph",
           "Indiana",
           "WOAH Non-Poultry"
          ],
          [
           "Ransom",
           "North Dakota",
           "Commercial Turkey Meat Bird"
          ],
          [
           "Rensselaer",
           "New York",
           "WOAH Non-Poultry"
          ],
          [
           "Redwood",
           "Minnesota",
           "WOAH Non-Poultry; Commercial Turkey Meat Bird"
          ],
          [
           "Renville",
           "Minnesota",
           "Commercial Turkey Breeder Hens; Commercial Turkey Meat Bird"
          ],
          [
           "Renville",
           "North Dakota",
           "WOAH Non-Poultry"
          ],
          [
           "Republic",
           "Kansas",
           "WOAH Poultry"
          ],
          [
           "Rice",
           "Kansas",
           "Commercial Table Egg Layer; WOAH Non-Poultry; Commercial Table Egg Pullets"
          ],
          [
           "Rice",
           "Minnesota",
           "WOAH Non-Poultry"
          ],
          [
           "Richland",
           "South Carolina",
           "WOAH Non-Poultry"
          ],
          [
           "Richland",
           "North Dakota",
           "WOAH Poultry; Commercial Turkey Meat Bird"
          ],
          [
           "Richmond",
           "New York",
           "Live Bird Market"
          ],
          [
           "Riverside",
           "California",
           "Commercial Table Egg Layer; WOAH Non-Poultry; WOAH Poultry; Commercial Table Egg Pullets"
          ],
          [
           "Roberts",
           "South Dakota",
           "Commercial Turkey Meat Bird; Commercial Breeder Operation"
          ],
          [
           "Rock",
           "Wisconsin",
           "WOAH Non-Poultry"
          ],
          [
           "Rockingham",
           "New Hampshire",
           "WOAH Non-Poultry"
          ],
          [
           "Rockingham",
           "Virginia",
           "WOAH Non-Poultry; Commercial Turkey Meat Bird"
          ],
          [
           "Rockwall",
           "Texas",
           "WOAH Non-Poultry"
          ],
          [
           "Roger Mills",
           "Oklahoma",
           "WOAH Non-Poultry"
          ],
          [
           "Rooks",
           "Kansas",
           "Commercial Raised for Release Upland Game Bird"
          ],
          [
           "Roosevelt",
           "New Mexico",
           "Commercial Breeder (Multiple Bird Species)"
          ],
          [
           "Roseau",
           "Minnesota",
           "Commercial Turkey Meat Bird"
          ],
          [
           "Rosebud",
           "Montana",
           "WOAH Non-Poultry"
          ],
          [
           "Routt",
           "Colorado",
           "WOAH Non-Poultry"
          ],
          [
           "Rowan",
           "North Carolina",
           "WOAH Non-Poultry"
          ],
          [
           "Russell",
           "Kansas",
           "WOAH Non-Poultry"
          ],
          [
           "Sac",
           "Iowa",
           "Commercial Turkey Meat Bird"
          ],
          [
           "Sacramento",
           "California",
           "Commercial Broiler Production; Commercial Turkey Meat Bird; WOAH Non-Poultry"
          ],
          [
           "Saginaw",
           "Michigan",
           "WOAH Non-Poultry"
          ],
          [
           "Saint Croix",
           "Wisconsin",
           "WOAH Non-Poultry"
          ],
          [
           "Salt Lake",
           "Utah",
           "WOAH Non-Poultry"
          ],
          [
           "Sampson",
           "North Carolina",
           "Commercial Turkey Breeder Hens; Commercial Turkey Breeder Replacement Hens"
          ],
          [
           "San Benito",
           "California",
           "Commercial Duck Breeder"
          ],
          [
           "San Diego",
           "California",
           "WOAH Poultry"
          ],
          [
           "San Francisco",
           "California",
           "Live Bird Market"
          ],
          [
           "San Joaquin",
           "California",
           "Commercial Table Egg Layer; Commercial Duck Breeder; Commercial Duck Meat Bird; Commercial Broiler Production; WOAH Non-Poultry; Commercial Turkey Meat Bird"
          ],
          [
           "San Juan",
           "New Mexico",
           "WOAH Non-Poultry"
          ],
          [
           "San Mateo",
           "California",
           "WOAH Non-Poultry"
          ],
          [
           "Sanilac",
           "Michigan",
           "WOAH Non-Poultry"
          ],
          [
           "Sanpete",
           "Utah",
           "Commercial Turkey Meat Bird"
          ],
          [
           "Sarpy",
           "Nebraska",
           "WOAH Non-Poultry"
          ],
          [
           "Sauk",
           "Wisconsin",
           "WOAH Non-Poultry"
          ],
          [
           "Saunders",
           "Nebraska",
           "WOAH Non-Poultry"
          ],
          [
           "Schuylkill",
           "Pennsylvania",
           "WOAH Non-Poultry"
          ],
          [
           "Scott",
           "Arkansas",
           "WOAH Non-Poultry"
          ],
          [
           "Scotts Bluff",
           "Nebraska",
           "WOAH Non-Poultry"
          ],
          [
           "Sedgwick",
           "Kansas",
           "WOAH Non-Poultry"
          ],
          [
           "Seminole",
           "Florida",
           "WOAH Poultry; WOAH Non-Poultry"
          ],
          [
           "Sequoyah",
           "Oklahoma",
           "Commercial Broiler Breeder"
          ],
          [
           "Sharp",
           "Arkansas",
           "WOAH Non-Poultry"
          ],
          [
           "Shawnee",
           "Kansas",
           "WOAH Non-Poultry; WOAH Poultry"
          ],
          [
           "Sheboygan",
           "Wisconsin",
           "WOAH Non-Poultry"
          ],
          [
           "Shelby",
           "Indiana",
           "WOAH Non-Poultry"
          ],
          [
           "Sherburne",
           "Minnesota",
           "WOAH Non-Poultry"
          ],
          [
           "Sheridan",
           "Wyoming",
           "WOAH Non-Poultry"
          ],
          [
           "Sheridan",
           "Nebraska",
           "WOAH Non-Poultry"
          ],
          [
           "Sheridan",
           "North Dakota",
           "WOAH Non-Poultry"
          ],
          [
           "Sioux",
           "Iowa",
           "Commercial Table Egg Layer"
          ],
          [
           "Snohomish",
           "Washington",
           "WOAH Poultry; WOAH Non-Poultry"
          ],
          [
           "Sonoma",
           "California",
           "Commercial Table Egg Layer; Commercial Duck Meat Bird; WOAH Poultry; Commercial Duck Breeder; WOAH Non-Poultry; Commercial Broiler Production"
          ],
          [
           "Southampton",
           "Virginia",
           "WOAH Non-Poultry"
          ],
          [
           "Spartanburg",
           "South Carolina",
           "Commercial Upland Gamebird Producer"
          ],
          [
           "Spink",
           "South Dakota",
           "WOAH Poultry; Commercial Turkey Meat Bird; WOAH Non-Poultry; Commercial Upland Gamebird Producer; Commercial Raised for Release Upland Game Bird"
          ],
          [
           "Spokane",
           "Washington",
           "WOAH Non-Poultry"
          ],
          [
           "St. Clair",
           "Illinois",
           "WOAH Non-Poultry"
          ],
          [
           "St. Louis",
           "Missouri",
           "WOAH Non-Poultry"
          ],
          [
           "St. Lucie",
           "Florida",
           "WOAH Non-Poultry"
          ],
          [
           "Stanislaus",
           "California",
           "Commercial Broiler Production; Commercial Table Egg Layer; Commercial Turkey Meat Bird; Commercial Duck Breeder; WOAH Poultry"
          ],
          [
           "Stark",
           "Ohio",
           "WOAH Non-Poultry"
          ],
          [
           "Stearns",
           "Minnesota",
           "Commercial Turkey Meat Bird; WOAH Non-Poultry; Commercial Turkey Breeder Hens"
          ],
          [
           "Steele",
           "Minnesota",
           "Commercial Turkey Meat Bird"
          ],
          [
           "Stevens",
           "Washington",
           "WOAH Non-Poultry"
          ],
          [
           "Stevens",
           "Minnesota",
           "WOAH Non-Poultry"
          ],
          [
           "Stoddard",
           "Missouri",
           "Commercial Broiler Production"
          ],
          [
           "Stutsman",
           "North Dakota",
           "WOAH Poultry"
          ],
          [
           "Suffolk",
           "New York",
           "WOAH Poultry; Commercial Upland Gamebird Producer; WOAH Non-Poultry; Commercial Duck Meat Bird"
          ],
          [
           "Sullivan",
           "New York",
           "WOAH Non-Poultry"
          ],
          [
           "Summit",
           "Ohio",
           "WOAH Non-Poultry"
          ],
          [
           "Sumter",
           "Georgia",
           "Commercial Raised for Release Waterfowl"
          ],
          [
           "Sussex",
           "Delaware",
           "WOAH Non-Poultry"
          ],
          [
           "Sweet Grass",
           "Montana",
           "WOAH Non-Poultry"
          ],
          [
           "Swift",
           "Minnesota",
           "Commercial Turkey Meat Bird; WOAH Non-Poultry"
          ],
          [
           "Taylor",
           "Wisconsin",
           "WOAH Non-Poultry"
          ],
          [
           "Taylor",
           "Iowa",
           "Commercial Table Egg Layer"
          ],
          [
           "Tehama",
           "California",
           "WOAH Poultry"
          ],
          [
           "Teton",
           "Montana",
           "WOAH Poultry"
          ],
          [
           "Thurston",
           "Washington",
           "WOAH Non-Poultry"
          ],
          [
           "Tillamook",
           "Oregon",
           "WOAH Non-Poultry"
          ],
          [
           "Tioga",
           "Pennsylvania",
           "WOAH Non-Poultry"
          ],
          [
           "Tipton",
           "Tennessee",
           "WOAH Non-Poultry"
          ],
          [
           "Todd",
           "Minnesota",
           "Commercial Turkey Meat Bird; WOAH Non-Poultry"
          ],
          [
           "Tompkins",
           "New York",
           "WOAH Poultry"
          ],
          [
           "Toole",
           "Montana",
           "WOAH Non-Poultry"
          ],
          [
           "Toombs",
           "Georgia",
           "WOAH Non-Poultry"
          ],
          [
           "Traill",
           "North Dakota",
           "WOAH Non-Poultry"
          ],
          [
           "Trempealeau",
           "Wisconsin",
           "Commercial Turkey Meat Bird"
          ],
          [
           "Tulare",
           "California",
           "Commercial Duck Meat Bird; Commercial Broiler Production; Commercial Duck Breeder; WOAH Non-Poultry"
          ],
          [
           "Tulsa",
           "Oklahoma",
           "WOAH Non-Poultry"
          ],
          [
           "Tuolumne",
           "California",
           "Commercial Turkey Meat Bird"
          ],
          [
           "Turner",
           "South Dakota",
           "WOAH Non-Poultry"
          ],
          [
           "Tuscola",
           "Michigan",
           "WOAH Poultry"
          ],
          [
           "Twin Falls",
           "Idaho",
           "WOAH Non-Poultry"
          ],
          [
           "Ulster",
           "New York",
           "WOAH Non-Poultry"
          ],
          [
           "Umatilla",
           "Oregon",
           "WOAH Non-Poultry"
          ],
          [
           "Union",
           "North Carolina",
           "WOAH Non-Poultry"
          ],
          [
           "Union",
           "Oregon",
           "WOAH Non-Poultry; WOAH Poultry"
          ],
          [
           "Union",
           "Ohio",
           "Commercial Table Egg Layer"
          ],
          [
           "Union",
           "New Jersey",
           "Live Bird Market"
          ],
          [
           "Union",
           "Indiana",
           "WOAH Non-Poultry"
          ],
          [
           "Utah",
           "Utah",
           "WOAH Non-Poultry"
          ],
          [
           "Valley",
           "Idaho",
           "WOAH Non-Poultry"
          ],
          [
           "Van Wert",
           "Ohio",
           "Commercial Turkey Meat Bird"
          ],
          [
           "Venango",
           "Pennsylvania",
           "WOAH Non-Poultry"
          ],
          [
           "Virginia Beach City",
           "Virginia",
           "WOAH Non-Poultry"
          ],
          [
           "Wadena",
           "Minnesota",
           "Commercial Turkey Meat Bird"
          ],
          [
           "Wagoner",
           "Oklahoma",
           "WOAH Non-Poultry"
          ],
          [
           "Wake",
           "North Carolina",
           "WOAH Non-Poultry"
          ],
          [
           "Waldo",
           "Maine",
           "WOAH Non-Poultry"
          ],
          [
           "Walla Walla",
           "Washington",
           "WOAH Non-Poultry"
          ],
          [
           "Walworth",
           "South Dakota",
           "WOAH Non-Poultry"
          ],
          [
           "Ward",
           "North Dakota",
           "WOAH Poultry"
          ],
          [
           "Warren",
           "New Jersey",
           "WOAH Non-Poultry"
          ],
          [
           "Warren",
           "Iowa",
           "WOAH Non-Poultry"
          ],
          [
           "Waseca",
           "Minnesota",
           "WOAH Non-Poultry; Commercial Turkey Meat Bird"
          ],
          [
           "Washakie",
           "Wyoming",
           "WOAH Non-Poultry"
          ],
          [
           "Washburn",
           "Wisconsin",
           "Commercial Turkey Meat Bird"
          ],
          [
           "Washington",
           "Maryland",
           "Commercial Table Egg Breeder"
          ],
          [
           "Washington",
           "Maine",
           "WOAH Non-Poultry"
          ],
          [
           "Washington",
           "Pennsylvania",
           "WOAH Poultry"
          ],
          [
           "Washington",
           "Wisconsin",
           "WOAH Poultry"
          ],
          [
           "Washington",
           "Nebraska",
           "WOAH Non-Poultry"
          ],
          [
           "Washington",
           "New York",
           "WOAH Non-Poultry"
          ],
          [
           "Washington",
           "Indiana",
           "Commercial Turkey Meat Bird"
          ],
          [
           "Washington",
           "Rhode Island",
           "WOAH Non-Poultry"
          ],
          [
           "Waukesha",
           "Wisconsin",
           "WOAH Non-Poultry"
          ],
          [
           "Wayne",
           "New York",
           "WOAH Non-Poultry"
          ],
          [
           "Wayne",
           "North Carolina",
           "Commercial Broiler Production; Commercial Turkey Meat Bird"
          ],
          [
           "Wayne",
           "Illinois",
           "Commercial Turkey Meat Bird"
          ],
          [
           "Wayne",
           "Pennsylvania",
           "WOAH Non-Poultry"
          ],
          [
           "Wayne",
           "Michigan",
           "WOAH Non-Poultry"
          ],
          [
           "Weakley",
           "Tennessee",
           "Commercial Broiler Breeder; WOAH Poultry; Commercial Broiler Production"
          ],
          [
           "Weber",
           "Utah",
           "WOAH Non-Poultry"
          ],
          [
           "Webster",
           "Missouri",
           "Commercial Turkey Meat Bird; WOAH Poultry"
          ],
          [
           "Webster",
           "Kentucky",
           "Commercial Turkey Meat Bird"
          ],
          [
           "Weld",
           "Colorado",
           "Commercial Table Egg Layer; WOAH Non-Poultry; Commercial Table Egg Pullets; WOAH Poultry"
          ],
          [
           "Westchester",
           "New York",
           "WOAH Non-Poultry"
          ],
          [
           "Westmoreland",
           "Pennsylvania",
           "WOAH Non-Poultry"
          ],
          [
           "Wexford",
           "Michigan",
           "WOAH Poultry"
          ],
          [
           "Whatcom",
           "Washington",
           "WOAH Non-Poultry"
          ],
          [
           "Wheatland",
           "Montana",
           "WOAH Poultry"
          ],
          [
           "Will",
           "Illinois",
           "WOAH Non-Poultry"
          ],
          [
           "Williams",
           "North Dakota",
           "WOAH Non-Poultry"
          ],
          [
           "Williams",
           "Ohio",
           "WOAH Non-Poultry"
          ],
          [
           "Windsor",
           "Vermont",
           "WOAH Non-Poultry"
          ],
          [
           "Woodbury",
           "Iowa",
           "WOAH Non-Poultry"
          ],
          [
           "Worcester",
           "Maryland",
           "Commercial Broiler Production"
          ],
          [
           "Worth",
           "Iowa",
           "Commercial Turkey Meat Bird"
          ],
          [
           "Wright",
           "Iowa",
           "Commercial Table Egg Layer"
          ],
          [
           "Wright",
           "Minnesota",
           "Commercial Table Egg Layer"
          ],
          [
           "Yakima",
           "Washington",
           "WOAH Non-Poultry"
          ],
          [
           "Yamhill",
           "Oregon",
           "WOAH Poultry"
          ],
          [
           "Yankton",
           "South Dakota",
           "Commercial Turkey Meat Bird; WOAH Non-Poultry"
          ],
          [
           "Yavapai",
           "Arizona",
           "WOAH Non-Poultry"
          ],
          [
           "Yellow Medicine",
           "Minnesota",
           "Commercial Turkey Meat Bird"
          ],
          [
           "Yolo",
           "California",
           "WOAH Non-Poultry"
          ],
          [
           "York",
           "Nebraska",
           "Commercial Upland Gamebird Producer"
          ],
          [
           "York",
           "Pennsylvania",
           "Commercial Turkey Meat Bird"
          ],
          [
           "York",
           "Maine",
           "WOAH Non-Poultry"
          ],
          [
           "Yuma",
           "Colorado",
           "WOAH Poultry"
          ]
         ],
         "geojson": "https://raw.githubusercontent.com/plotly/datasets/master/geojson-counties-fips.json",
         "hovertemplate": "FIPS Codes=%{location}<br>County Name=%{customdata[0]}<br>State=%{customdata[1]}<br>Flock Type=%{customdata[2]}<br>Flock Size=%{z}<extra></extra>",
         "locations": [
          "51001",
          "16001",
          "40001",
          "42001",
          "18001",
          "51510",
          "42003",
          "39003",
          "18003",
          "26007",
          "20003",
          "24003",
          "27003",
          "08005",
          "05001",
          "39005",
          "29007",
          "39011",
          "38003",
          "25001",
          "55005",
          "29009",
          "20009",
          "29013",
          "26017",
          "55007",
          "46005",
          "45013",
          "27005",
          "33001",
          "08011",
          "41003",
          "19011",
          "29015",
          "27009",
          "53005",
          "34003",
          "42011",
          "25003",
          "35001",
          "02050",
          "27011",
          "16011",
          "47007",
          "27013",
          "46009",
          "16019",
          "17007",
          "22015",
          "38009",
          "08013",
          "31013",
          "26023",
          "48039",
          "19017",
          "25005",
          "36005",
          "46011",
          "12011",
          "27015",
          "46015",
          "42017",
          "19021",
          "38013",
          "48053",
          "55013",
          "39017",
          "31023",
          "42019",
          "06007",
          "49005",
          "06009",
          "22019",
          "50005",
          "56005",
          "16027",
          "16029",
          "24011",
          "51033",
          "05015",
          "17015",
          "29033",
          "48065",
          "32510",
          "40019",
          "27019",
          "30013",
          "29037",
          "26027",
          "38017",
          "16031",
          "24015",
          "29039",
          "19033",
          "24017",
          "46023",
          "19035",
          "42029",
          "19037",
          "01021",
          "27023",
          "27025",
          "32001",
          "41005",
          "53009",
          "46025",
          "41007",
          "05021",
          "19041",
          "27027",
          "12019",
          "13063",
          "40027",
          "05025",
          "19045",
          "46029",
          "20031",
          "31037",
          "12021",
          "41009",
          "55021",
          "36021",
          "06013",
          "56009",
          "17031",
          "29053",
          "41011",
          "28029",
          "53015",
          "05031",
          "40037",
          "41013",
          "27035",
          "72049",
          "01043",
          "23005",
          "42041",
          "29057",
          "27037",
          "19049",
          "48113",
          "29059",
          "37055",
          "39037",
          "42043",
          "47037",
          "18027",
          "29061",
          "31045",
          "46037",
          "12027",
          "48117",
          "39039",
          "06015",
          "36025",
          "08029",
          "48121",
          "41017",
          "46039",
          "38021",
          "20041",
          "31051",
          "31053",
          "27039",
          "20043",
          "24019",
          "20045",
          "27041",
          "41019",
          "32005",
          "18037",
          "25007",
          "55033",
          "37061",
          "37063",
          "36027",
          "12031",
          "26045",
          "46045",
          "06017",
          "13105",
          "20049",
          "18039",
          "48139",
          "20053",
          "38029",
          "48143",
          "25009",
          "01055",
          "46047",
          "46049",
          "51061",
          "21067",
          "30027",
          "27045",
          "30029",
          "55039",
          "50011",
          "53021",
          "16041",
          "39049",
          "19069",
          "20059",
          "27047",
          "56013",
          "06019",
          "36035",
          "21075",
          "31067",
          "30031",
          "40047",
          "16045",
          "26049",
          "29075",
          "47053",
          "30035",
          "06021",
          "51073",
          "38033",
          "27049",
          "16047",
          "40051",
          "04009",
          "30039",
          "46051",
          "27051",
          "20067",
          "26057",
          "28041",
          "39057",
          "18055",
          "47059",
          "46053",
          "48185",
          "17063",
          "37081",
          "19077",
          "48189",
          "19079",
          "46057",
          "51650",
          "23009",
          "46061",
          "39065",
          "19083",
          "29081",
          "20079",
          "12051",
          "27053",
          "17073",
          "13151",
          "30041",
          "12057",
          "31089",
          "15003",
          "45051",
          "56017",
          "27055",
          "29089",
          "19091",
          "46067",
          "37095",
          "19093",
          "12061",
          "26065",
          "26067",
          "49021",
          "27059",
          "27061",
          "26075",
          "05067",
          "29095",
          "41029",
          "18071",
          "29097",
          "18073",
          "18075",
          "16051",
          "55055",
          "08059",
          "53031",
          "22053",
          "46073",
          "16053",
          "20089",
          "31097",
          "05071",
          "20091",
          "18081",
          "56019",
          "29101",
          "37101",
          "19105",
          "41033",
          "30045",
          "26077",
          "54039",
          "27067",
          "17089",
          "31099",
          "23011",
          "55059",
          "10001",
          "06029",
          "38043",
          "53033",
          "06031",
          "36047",
          "46077",
          "53035",
          "53037",
          "41035",
          "31107",
          "23013",
          "19109",
          "08067",
          "27073",
          "05073",
          "18087",
          "46079",
          "12069",
          "50015",
          "38045",
          "48281",
          "31109",
          "42071",
          "41039",
          "26087",
          "08069",
          "06035",
          "16057",
          "17101",
          "01079",
          "28077",
          "29109",
          "27079",
          "28079",
          "42075",
          "42077",
          "16059",
          "37107",
          "53041",
          "30049",
          "39089",
          "47103",
          "16063",
          "56023",
          "23015",
          "31111",
          "41043",
          "17105",
          "26093",
          "21141",
          "19115",
          "28087",
          "42079",
          "27083",
          "26099",
          "06039",
          "05087",
          "16065",
          "36053",
          "19123",
          "39099",
          "41045",
          "55073",
          "04013",
          "29125",
          "06041",
          "55075",
          "41047",
          "01095",
          "27091",
          "12085",
          "53045",
          "02170",
          "29119",
          "38049",
          "38051",
          "17113",
          "20113",
          "46089",
          "27093",
          "06045",
          "26109",
          "06047",
          "39107",
          "31121",
          "33013",
          "08077",
          "12086",
          "25017",
          "42087",
          "19129",
          "46097",
          "46099",
          "30063",
          "20123",
          "06049",
          "08081",
          "34025",
          "19133",
          "42089",
          "36055",
          "28095",
          "26115",
          "06053",
          "18107",
          "24031",
          "26119",
          "08085",
          "46101",
          "48341",
          "08087",
          "27097",
          "38061",
          "27099",
          "41051",
          "26121",
          "31125",
          "38063",
          "31127",
          "20133",
          "10003",
          "09009",
          "09011",
          "26123",
          "44005",
          "29145",
          "27105",
          "42095",
          "42097",
          "32023",
          "26125",
          "47131",
          "19141",
          "34029",
          "55083",
          "53047",
          "12093",
          "27109",
          "36067",
          "37133",
          "12095",
          "45075",
          "50019",
          "36073",
          "29151",
          "12097",
          "19143",
          "26139",
          "27111",
          "16073",
          "53049",
          "12099",
          "19147",
          "30067",
          "56029",
          "48369",
          "12101",
          "40117",
          "29155",
          "29157",
          "29161",
          "42101",
          "20147",
          "01107",
          "53053",
          "55093",
          "04021",
          "27115",
          "27117",
          "08097",
          "49031",
          "06061",
          "56031",
          "25023",
          "19151",
          "54075",
          "41053",
          "27119",
          "55095",
          "30073",
          "05115",
          "27121",
          "39133",
          "18129",
          "20149",
          "19155",
          "08099",
          "08101",
          "36079",
          "24035",
          "36081",
          "55101",
          "29173",
          "18135",
          "38073",
          "36083",
          "27127",
          "27129",
          "38075",
          "20157",
          "20159",
          "27131",
          "45079",
          "38077",
          "36085",
          "06065",
          "46109",
          "55105",
          "33015",
          "51165",
          "48397",
          "40129",
          "20163",
          "35041",
          "27135",
          "30087",
          "08107",
          "37159",
          "20167",
          "19161",
          "06067",
          "26145",
          "55109",
          "49035",
          "37163",
          "06069",
          "06073",
          "06075",
          "06077",
          "35045",
          "06081",
          "26151",
          "49039",
          "31153",
          "55111",
          "31155",
          "42107",
          "05127",
          "31157",
          "20173",
          "12117",
          "40135",
          "05135",
          "20177",
          "55117",
          "18145",
          "27141",
          "56033",
          "31161",
          "38083",
          "19167",
          "53061",
          "06097",
          "51175",
          "45083",
          "46115",
          "53063",
          "17163",
          "29189",
          "12111",
          "06099",
          "39151",
          "27145",
          "27147",
          "53065",
          "27149",
          "29207",
          "38093",
          "36103",
          "36105",
          "39153",
          "13261",
          "10005",
          "30097",
          "27151",
          "55119",
          "19173",
          "06103",
          "30099",
          "53067",
          "41057",
          "42117",
          "47167",
          "27153",
          "36109",
          "30101",
          "13279",
          "38097",
          "55121",
          "06107",
          "40143",
          "06109",
          "46125",
          "26157",
          "16083",
          "36111",
          "41059",
          "37179",
          "41061",
          "39159",
          "34039",
          "18161",
          "49049",
          "16085",
          "39161",
          "42121",
          "51810",
          "27159",
          "40145",
          "37183",
          "23027",
          "53071",
          "46129",
          "38101",
          "34041",
          "19181",
          "27161",
          "56043",
          "55129",
          "24043",
          "23029",
          "42125",
          "55131",
          "31177",
          "36115",
          "18175",
          "44009",
          "55133",
          "36117",
          "37191",
          "17191",
          "42127",
          "26163",
          "47183",
          "49057",
          "29225",
          "21233",
          "08123",
          "36119",
          "42129",
          "26165",
          "53073",
          "30107",
          "17197",
          "38105",
          "39171",
          "50027",
          "19193",
          "24047",
          "19195",
          "19197",
          "27171",
          "53077",
          "41071",
          "46135",
          "04025",
          "27173",
          "06113",
          "31185",
          "42133",
          "23031",
          "08125"
         ],
         "marker": {
          "line": {
           "color": "rgb(200,200,200)",
           "width": 0.5
          },
          "opacity": 0.7
         },
         "name": "",
         "subplot": "mapbox",
         "type": "choroplethmapbox",
         "z": {
          "bdata": "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",
          "dtype": "i4"
         }
        }
       ],
       "layout": {
        "coloraxis": {
         "cmax": 12108000,
         "cmin": 0,
         "colorbar": {
          "len": 0.75,
          "lenmode": "fraction",
          "ticktext": [
           "0",
           "30",
           "80",
           "454",
           "71,140",
           "12,108,000"
          ],
          "tickvals": {
           "bdata": "AAAAAAAAAAAAAAAAAAA+QAAAAAAAAFRA/P////9ffEAFAAAAQF7xQAAAAAAcGGdB",
           "dtype": "f8"
          },
          "title": {
           "text": "Flock Size"
          }
         },
         "colorscale": [
          [
           0,
           "rgb(255,245,240)"
          ],
          [
           0.125,
           "rgb(254,224,210)"
          ],
          [
           0.25,
           "rgb(252,187,161)"
          ],
          [
           0.375,
           "rgb(252,146,114)"
          ],
          [
           0.5,
           "rgb(251,106,74)"
          ],
          [
           0.625,
           "rgb(239,59,44)"
          ],
          [
           0.75,
           "rgb(203,24,29)"
          ],
          [
           0.875,
           "rgb(165,15,21)"
          ],
          [
           1,
           "rgb(103,0,13)"
          ]
         ]
        },
        "height": 800,
        "legend": {
         "tracegroupgap": 0
        },
        "mapbox": {
         "accesstoken": "pk.eyJ1IjoiYmVya2F5IiwiYSI6ImNpazVwcXc0dDAwN3NoZ20yc2xtMjhidGQifQ.VYiB2R9epxa80Sy-nvls8g",
         "center": {
          "lat": 37.0902,
          "lon": -95.7129
         },
         "domain": {
          "x": [
           0,
           1
          ],
          "y": [
           0,
           1
          ]
         },
         "style": "carto-positron",
         "zoom": 4
        },
        "margin": {
         "b": 0,
         "l": 0,
         "r": 0,
         "t": 30
        },
        "template": {
         "data": {
          "bar": [
           {
            "error_x": {
             "color": "#2a3f5f"
            },
            "error_y": {
             "color": "#2a3f5f"
            },
            "marker": {
             "line": {
              "color": "#E5ECF6",
              "width": 0.5
             },
             "pattern": {
              "fillmode": "overlay",
              "size": 10,
              "solidity": 0.2
             }
            },
            "type": "bar"
           }
          ],
          "barpolar": [
           {
            "marker": {
             "line": {
              "color": "#E5ECF6",
              "width": 0.5
             },
             "pattern": {
              "fillmode": "overlay",
              "size": 10,
              "solidity": 0.2
             }
            },
            "type": "barpolar"
           }
          ],
          "carpet": [
           {
            "aaxis": {
             "endlinecolor": "#2a3f5f",
             "gridcolor": "white",
             "linecolor": "white",
             "minorgridcolor": "white",
             "startlinecolor": "#2a3f5f"
            },
            "baxis": {
             "endlinecolor": "#2a3f5f",
             "gridcolor": "white",
             "linecolor": "white",
             "minorgridcolor": "white",
             "startlinecolor": "#2a3f5f"
            },
            "type": "carpet"
           }
          ],
          "choropleth": [
           {
            "colorbar": {
             "outlinewidth": 0,
             "ticks": ""
            },
            "type": "choropleth"
           }
          ],
          "contour": [
           {
            "colorbar": {
             "outlinewidth": 0,
             "ticks": ""
            },
            "colorscale": [
             [
              0,
              "#0d0887"
             ],
             [
              0.1111111111111111,
              "#46039f"
             ],
             [
              0.2222222222222222,
              "#7201a8"
             ],
             [
              0.3333333333333333,
              "#9c179e"
             ],
             [
              0.4444444444444444,
              "#bd3786"
             ],
             [
              0.5555555555555556,
              "#d8576b"
             ],
             [
              0.6666666666666666,
              "#ed7953"
             ],
             [
              0.7777777777777778,
              "#fb9f3a"
             ],
             [
              0.8888888888888888,
              "#fdca26"
             ],
             [
              1,
              "#f0f921"
             ]
            ],
            "type": "contour"
           }
          ],
          "contourcarpet": [
           {
            "colorbar": {
             "outlinewidth": 0,
             "ticks": ""
            },
            "type": "contourcarpet"
           }
          ],
          "heatmap": [
           {
            "colorbar": {
             "outlinewidth": 0,
             "ticks": ""
            },
            "colorscale": [
             [
              0,
              "#0d0887"
             ],
             [
              0.1111111111111111,
              "#46039f"
             ],
             [
              0.2222222222222222,
              "#7201a8"
             ],
             [
              0.3333333333333333,
              "#9c179e"
             ],
             [
              0.4444444444444444,
              "#bd3786"
             ],
             [
              0.5555555555555556,
              "#d8576b"
             ],
             [
              0.6666666666666666,
              "#ed7953"
             ],
             [
              0.7777777777777778,
              "#fb9f3a"
             ],
             [
              0.8888888888888888,
              "#fdca26"
             ],
             [
              1,
              "#f0f921"
             ]
            ],
            "type": "heatmap"
           }
          ],
          "histogram": [
           {
            "marker": {
             "pattern": {
              "fillmode": "overlay",
              "size": 10,
              "solidity": 0.2
             }
            },
            "type": "histogram"
           }
          ],
          "histogram2d": [
           {
            "colorbar": {
             "outlinewidth": 0,
             "ticks": ""
            },
            "colorscale": [
             [
              0,
              "#0d0887"
             ],
             [
              0.1111111111111111,
              "#46039f"
             ],
             [
              0.2222222222222222,
              "#7201a8"
             ],
             [
              0.3333333333333333,
              "#9c179e"
             ],
             [
              0.4444444444444444,
              "#bd3786"
             ],
             [
              0.5555555555555556,
              "#d8576b"
             ],
             [
              0.6666666666666666,
              "#ed7953"
             ],
             [
              0.7777777777777778,
              "#fb9f3a"
             ],
             [
              0.8888888888888888,
              "#fdca26"
             ],
             [
              1,
              "#f0f921"
             ]
            ],
            "type": "histogram2d"
           }
          ],
          "histogram2dcontour": [
           {
            "colorbar": {
             "outlinewidth": 0,
             "ticks": ""
            },
            "colorscale": [
             [
              0,
              "#0d0887"
             ],
             [
              0.1111111111111111,
              "#46039f"
             ],
             [
              0.2222222222222222,
              "#7201a8"
             ],
             [
              0.3333333333333333,
              "#9c179e"
             ],
             [
              0.4444444444444444,
              "#bd3786"
             ],
             [
              0.5555555555555556,
              "#d8576b"
             ],
             [
              0.6666666666666666,
              "#ed7953"
             ],
             [
              0.7777777777777778,
              "#fb9f3a"
             ],
             [
              0.8888888888888888,
              "#fdca26"
             ],
             [
              1,
              "#f0f921"
             ]
            ],
            "type": "histogram2dcontour"
           }
          ],
          "mesh3d": [
           {
            "colorbar": {
             "outlinewidth": 0,
             "ticks": ""
            },
            "type": "mesh3d"
           }
          ],
          "parcoords": [
           {
            "line": {
             "colorbar": {
              "outlinewidth": 0,
              "ticks": ""
             }
            },
            "type": "parcoords"
           }
          ],
          "pie": [
           {
            "automargin": true,
            "type": "pie"
           }
          ],
          "scatter": [
           {
            "fillpattern": {
             "fillmode": "overlay",
             "size": 10,
             "solidity": 0.2
            },
            "type": "scatter"
           }
          ],
          "scatter3d": [
           {
            "line": {
             "colorbar": {
              "outlinewidth": 0,
              "ticks": ""
             }
            },
            "marker": {
             "colorbar": {
              "outlinewidth": 0,
              "ticks": ""
             }
            },
            "type": "scatter3d"
           }
          ],
          "scattercarpet": [
           {
            "marker": {
             "colorbar": {
              "outlinewidth": 0,
              "ticks": ""
             }
            },
            "type": "scattercarpet"
           }
          ],
          "scattergeo": [
           {
            "marker": {
             "colorbar": {
              "outlinewidth": 0,
              "ticks": ""
             }
            },
            "type": "scattergeo"
           }
          ],
          "scattergl": [
           {
            "marker": {
             "colorbar": {
              "outlinewidth": 0,
              "ticks": ""
             }
            },
            "type": "scattergl"
           }
          ],
          "scattermap": [
           {
            "marker": {
             "colorbar": {
              "outlinewidth": 0,
              "ticks": ""
             }
            },
            "type": "scattermap"
           }
          ],
          "scattermapbox": [
           {
            "marker": {
             "colorbar": {
              "outlinewidth": 0,
              "ticks": ""
             }
            },
            "type": "scattermapbox"
           }
          ],
          "scatterpolar": [
           {
            "marker": {
             "colorbar": {
              "outlinewidth": 0,
              "ticks": ""
             }
            },
            "type": "scatterpolar"
           }
          ],
          "scatterpolargl": [
           {
            "marker": {
             "colorbar": {
              "outlinewidth": 0,
              "ticks": ""
             }
            },
            "type": "scatterpolargl"
           }
          ],
          "scatterternary": [
           {
            "marker": {
             "colorbar": {
              "outlinewidth": 0,
              "ticks": ""
             }
            },
            "type": "scatterternary"
           }
          ],
          "surface": [
           {
            "colorbar": {
             "outlinewidth": 0,
             "ticks": ""
            },
            "colorscale": [
             [
              0,
              "#0d0887"
             ],
             [
              0.1111111111111111,
              "#46039f"
             ],
             [
              0.2222222222222222,
              "#7201a8"
             ],
             [
              0.3333333333333333,
              "#9c179e"
             ],
             [
              0.4444444444444444,
              "#bd3786"
             ],
             [
              0.5555555555555556,
              "#d8576b"
             ],
             [
              0.6666666666666666,
              "#ed7953"
             ],
             [
              0.7777777777777778,
              "#fb9f3a"
             ],
             [
              0.8888888888888888,
              "#fdca26"
             ],
             [
              1,
              "#f0f921"
             ]
            ],
            "type": "surface"
           }
          ],
          "table": [
           {
            "cells": {
             "fill": {
              "color": "#EBF0F8"
             },
             "line": {
              "color": "white"
             }
            },
            "header": {
             "fill": {
              "color": "#C8D4E3"
             },
             "line": {
              "color": "white"
             }
            },
            "type": "table"
           }
          ]
         },
         "layout": {
          "annotationdefaults": {
           "arrowcolor": "#2a3f5f",
           "arrowhead": 0,
           "arrowwidth": 1
          },
          "autotypenumbers": "strict",
          "coloraxis": {
           "colorbar": {
            "outlinewidth": 0,
            "ticks": ""
           }
          },
          "colorscale": {
           "diverging": [
            [
             0,
             "#8e0152"
            ],
            [
             0.1,
             "#c51b7d"
            ],
            [
             0.2,
             "#de77ae"
            ],
            [
             0.3,
             "#f1b6da"
            ],
            [
             0.4,
             "#fde0ef"
            ],
            [
             0.5,
             "#f7f7f7"
            ],
            [
             0.6,
             "#e6f5d0"
            ],
            [
             0.7,
             "#b8e186"
            ],
            [
             0.8,
             "#7fbc41"
            ],
            [
             0.9,
             "#4d9221"
            ],
            [
             1,
             "#276419"
            ]
           ],
           "sequential": [
            [
             0,
             "#0d0887"
            ],
            [
             0.1111111111111111,
             "#46039f"
            ],
            [
             0.2222222222222222,
             "#7201a8"
            ],
            [
             0.3333333333333333,
             "#9c179e"
            ],
            [
             0.4444444444444444,
             "#bd3786"
            ],
            [
             0.5555555555555556,
             "#d8576b"
            ],
            [
             0.6666666666666666,
             "#ed7953"
            ],
            [
             0.7777777777777778,
             "#fb9f3a"
            ],
            [
             0.8888888888888888,
             "#fdca26"
            ],
            [
             1,
             "#f0f921"
            ]
           ],
           "sequentialminus": [
            [
             0,
             "#0d0887"
            ],
            [
             0.1111111111111111,
             "#46039f"
            ],
            [
             0.2222222222222222,
             "#7201a8"
            ],
            [
             0.3333333333333333,
             "#9c179e"
            ],
            [
             0.4444444444444444,
             "#bd3786"
            ],
            [
             0.5555555555555556,
             "#d8576b"
            ],
            [
             0.6666666666666666,
             "#ed7953"
            ],
            [
             0.7777777777777778,
             "#fb9f3a"
            ],
            [
             0.8888888888888888,
             "#fdca26"
            ],
            [
             1,
             "#f0f921"
            ]
           ]
          },
          "colorway": [
           "#636efa",
           "#EF553B",
           "#00cc96",
           "#ab63fa",
           "#FFA15A",
           "#19d3f3",
           "#FF6692",
           "#B6E880",
           "#FF97FF",
           "#FECB52"
          ],
          "font": {
           "color": "#2a3f5f"
          },
          "geo": {
           "bgcolor": "white",
           "lakecolor": "white",
           "landcolor": "#E5ECF6",
           "showlakes": true,
           "showland": true,
           "subunitcolor": "white"
          },
          "hoverlabel": {
           "align": "left"
          },
          "hovermode": "closest",
          "mapbox": {
           "style": "light"
          },
          "paper_bgcolor": "white",
          "plot_bgcolor": "#E5ECF6",
          "polar": {
           "angularaxis": {
            "gridcolor": "white",
            "linecolor": "white",
            "ticks": ""
           },
           "bgcolor": "#E5ECF6",
           "radialaxis": {
            "gridcolor": "white",
            "linecolor": "white",
            "ticks": ""
           }
          },
          "scene": {
           "xaxis": {
            "backgroundcolor": "#E5ECF6",
            "gridcolor": "white",
            "gridwidth": 2,
            "linecolor": "white",
            "showbackground": true,
            "ticks": "",
            "zerolinecolor": "white"
           },
           "yaxis": {
            "backgroundcolor": "#E5ECF6",
            "gridcolor": "white",
            "gridwidth": 2,
            "linecolor": "white",
            "showbackground": true,
            "ticks": "",
            "zerolinecolor": "white"
           },
           "zaxis": {
            "backgroundcolor": "#E5ECF6",
            "gridcolor": "white",
            "gridwidth": 2,
            "linecolor": "white",
            "showbackground": true,
            "ticks": "",
            "zerolinecolor": "white"
           }
          },
          "shapedefaults": {
           "line": {
            "color": "#2a3f5f"
           }
          },
          "ternary": {
           "aaxis": {
            "gridcolor": "white",
            "linecolor": "white",
            "ticks": ""
           },
           "baxis": {
            "gridcolor": "white",
            "linecolor": "white",
            "ticks": ""
           },
           "bgcolor": "#E5ECF6",
           "caxis": {
            "gridcolor": "white",
            "linecolor": "white",
            "ticks": ""
           }
          },
          "title": {
           "x": 0.05
          },
          "xaxis": {
           "automargin": true,
           "gridcolor": "white",
           "linecolor": "white",
           "ticks": "",
           "title": {
            "standoff": 15
           },
           "zerolinecolor": "white",
           "zerolinewidth": 2
          },
          "yaxis": {
           "automargin": true,
           "gridcolor": "white",
           "linecolor": "white",
           "ticks": "",
           "title": {
            "standoff": 15
           },
           "zerolinecolor": "white",
           "zerolinewidth": 2
          }
         }
        },
        "title": {
         "text": "Bird Flu Cases by Flock Size Across US Counties",
         "x": 0.5
        },
        "width": 1200
       }
      }
     },
     "metadata": {},
     "output_type": "display_data"
    }
   ],
   "source": [
    "import pandas as pd\n",
    "import plotly.express as px\n",
    "import numpy as np\n",
    "\n",
    "# Read the data\n",
    "df = pd.read_csv('data/birdflu.csv')\n",
    "\n",
    "# Ensure FIPS codes are properly formatted\n",
    "df['FIPS Codes'] = df['FIPS Codes'].astype(str).str.zfill(5)\n",
    "\n",
    "# Calculate quantiles for better color distribution\n",
    "quantiles = np.quantile(df['Flock Size'], [0, 0.2, 0.4, 0.6, 0.8, 1])\n",
    "\n",
    "# Create choropleth map\n",
    "fig = px.choropleth_mapbox(df,\n",
    "    geojson='https://raw.githubusercontent.com/plotly/datasets/master/geojson-counties-fips.json',\n",
    "    locations='FIPS Codes',\n",
    "    color='Flock Size',\n",
    "    color_continuous_scale=\"Reds\",\n",
    "    range_color=[df['Flock Size'].min(), df['Flock Size'].max()],\n",
    "    mapbox_style='carto-positron',  # Light style basemap that doesn't require token\n",
    "    zoom=3.5,\n",
    "    center={\"lat\": 37.0902, \"lon\": -95.7129},\n",
    "    opacity=0.7,\n",
    "    hover_data=['County Name', 'State', 'Flock Type'],\n",
    "    title=\"Bird Flu Cases by Flock Size Across US Counties\"\n",
    ")\n",
    "\n",
    "# Update layout\n",
    "fig.update_layout(\n",
    "    title_x=0.5,\n",
    "    width=1200,\n",
    "    height=800,\n",
    "    margin={\"r\":0,\"t\":30,\"l\":0,\"b\":0},\n",
    "    coloraxis_colorbar=dict(\n",
    "        title=\"Flock Size\",\n",
    "        tickvals=quantiles,\n",
    "        ticktext=[f\"{val:,.0f}\" for val in quantiles],\n",
    "        lenmode=\"fraction\",\n",
    "        len=0.75\n",
    "    )\n",
    ")\n",
    "\n",
    "# Update traces\n",
    "fig.update_traces(\n",
    "    marker_line_color='rgb(200,200,200)',\n",
    "    marker_line_width=0.5\n",
    ")\n",
    "\n",
    "# Show the map\n",
    "fig.show()"
   ]
  },
  {
   "cell_type": "code",
   "execution_count": null,
   "metadata": {},
   "outputs": [],
   "source": [
    "# Create summary statistics\n",
    "state_summary = df.groupby('State').agg({\n",
    "    'Flock Size': ['sum', 'mean', 'count'],\n",
    "    'Outbreaks': 'sum'\n",
    "}).round(2)\n",
    "\n",
    "# Flatten column names\n",
    "state_summary.columns = ['Total Flock Size', 'Average Flock Size', 'Number of Cases', 'Total Outbreaks']\n",
    "\n",
    "# Sort by total flock size\n",
    "state_summary = state_summary.sort_values('Total Flock Size', ascending=False)\n",
    "\n",
    "# Display top 10 states\n",
    "print(\"Top 10 States by Total Affected Flock Size:\")\n",
    "print(state_summary.head(10))"
   ]
  }
 ],
 "metadata": {
  "kernelspec": {
   "display_name": ".venv",
   "language": "python",
   "name": "python3"
  },
  "language_info": {
   "codemirror_mode": {
    "name": "ipython",
    "version": 3
   },
   "file_extension": ".py",
   "mimetype": "text/x-python",
   "name": "python",
   "nbconvert_exporter": "python",
   "pygments_lexer": "ipython3",
   "version": "3.11.11"
  }
 },
 "nbformat": 4,
 "nbformat_minor": 2
}
